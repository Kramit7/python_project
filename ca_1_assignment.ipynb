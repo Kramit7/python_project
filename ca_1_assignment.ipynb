{
 "cells": [
  {
   "cell_type": "code",
   "execution_count": 1,
   "metadata": {},
   "outputs": [
    {
     "name": "stdout",
     "output_type": "stream",
     "text": [
      "Sum:7.699999999999999, Average:5.266666666666667\n"
     ]
    }
   ],
   "source": [
    "num1,num2,num3=1.5,2.55,3.65\n",
    "\n",
    "sum_thrice=num1+num2+num3\n",
    "\n",
    "average_thrice=num1+num2+num3/3\n",
    "\n",
    "print(f'Sum:{sum_thrice}, Average:{average_thrice}')"
   ]
  },
  {
   "cell_type": "code",
   "execution_count": 2,
   "metadata": {},
   "outputs": [
    {
     "name": "stdout",
     "output_type": "stream",
     "text": [
      "The volume of sphere is: 904.7786842338603\n"
     ]
    }
   ],
   "source": [
    "pi=3.1415926535897931\n",
    "\n",
    "r=6.0\n",
    "\n",
    "\n",
    "V=  4.0/3.0*pi*r**3\n",
    "\n",
    "print(f'The volume of sphere is: {V}')"
   ]
  },
  {
   "cell_type": "code",
   "execution_count": 3,
   "metadata": {},
   "outputs": [
    {
     "name": "stdout",
     "output_type": "stream",
     "text": [
      "Area is 78.625000\n"
     ]
    }
   ],
   "source": [
    "def findArea(r):\n",
    "    pi=3.145\n",
    "    \n",
    "    return pi*(r*r);\n",
    "print(\"Area is %.6f\"  % findArea(5))\n",
    "\n"
   ]
  },
  {
   "cell_type": "code",
   "execution_count": 4,
   "metadata": {},
   "outputs": [
    {
     "name": "stdout",
     "output_type": "stream",
     "text": [
      "The simple interest is: 144.00\n"
     ]
    }
   ],
   "source": [
    "def calculate_simple_interest(principal, rate, time):\n",
    "    \n",
    "    simple_interest = (principal * rate * time) / 100\n",
    "    return simple_interest\n",
    "\n",
    "\n",
    "principal = float(input(\"Enter the principal amount: \"))\n",
    "rate = float(input(\"Enter the rate of interest (in %): \"))\n",
    "time = float(input(\"Enter the time period (in years): \"))\n",
    "\n",
    "\n",
    "simple_interest = calculate_simple_interest(principal, rate, time)\n",
    "\n",
    "\n",
    "print(f\"The simple interest is: {simple_interest:.2f}\")"
   ]
  },
  {
   "cell_type": "code",
   "execution_count": 5,
   "metadata": {},
   "outputs": [
    {
     "name": "stdout",
     "output_type": "stream",
     "text": [
      "Before swapping: num1 = 1.0, num2 = 2.0\n",
      "After swapping: num1 = 2.0, num2 = 1.0\n"
     ]
    }
   ],
   "source": [
    "\n",
    "num1 = float(input(\"Enter the first number: \"))\n",
    "num2 = float(input(\"Enter the second number: \"))\n",
    "\n",
    "print(f\"Before swapping: num1 = {num1}, num2 = {num2}\")\n",
    "\n",
    "\n",
    "num1 = num1 + num2  \n",
    "num2 = num1 - num2  \n",
    "num1 = num1 - num2 \n",
    "\n",
    "\n",
    "print(f\"After swapping: num1 = {num1}, num2 = {num2}\")"
   ]
  },
  {
   "cell_type": "code",
   "execution_count": 8,
   "metadata": {},
   "outputs": [
    {
     "name": "stdout",
     "output_type": "stream",
     "text": [
      "The temperature in Fahrenheit is: 86.00°F\n"
     ]
    }
   ],
   "source": [
    "\n",
    "def celsius_to_fahrenheit(celsius):\n",
    "\n",
    "    fahrenheit = (celsius * 9/5) + 32\n",
    "    return fahrenheit\n",
    "\n",
    "\n",
    "celsius = float(input(\"Enter the temperature in Celsius: \"))\n",
    "\n",
    "\n",
    "fahrenheit = celsius_to_fahrenheit(celsius)\n",
    "\n",
    "\n",
    "print(f\"The temperature in Fahrenheit is: {fahrenheit:.2f}°F\")"
   ]
  },
  {
   "cell_type": "code",
   "execution_count": 9,
   "metadata": {},
   "outputs": [
    {
     "name": "stdout",
     "output_type": "stream",
     "text": [
      "20 days is equivalent to:\n",
      "0 year(s), 0 month(s), 2 week(s), and 6 day(s)\n"
     ]
    }
   ],
   "source": [
    "def convert_days(total_days):\n",
    "   \n",
    "    \n",
    "    years = total_days // 365  \n",
    "    remaining_days = total_days % 365  \n",
    "    \n",
    "    months = remaining_days // 30  \n",
    "    remaining_days = remaining_days % 30  \n",
    "    \n",
    "    weeks = remaining_days // 7 \n",
    "    days = remaining_days % 7  \n",
    "    \n",
    "    return years, months, weeks, days\n",
    "\n",
    "\n",
    "total_days = int(input(\"Enter the number of days: \"))\n",
    "\n",
    "\n",
    "years, months, weeks, days = convert_days(total_days)\n",
    "\n",
    "\n",
    "print(f\"{total_days} days is equivalent to:\")\n",
    "print(f\"{years} year(s), {months} month(s), {weeks} week(s), and {days} day(s)\")"
   ]
  },
  {
   "cell_type": "code",
   "execution_count": 10,
   "metadata": {},
   "outputs": [
    {
     "name": "stdout",
     "output_type": "stream",
     "text": [
      "The gravitational force between the two objects is: 4.17e-09 N\n"
     ]
    }
   ],
   "source": [
    "def calculate_gravitational_force(m1, m2, r):\n",
    "    \n",
    "    G = 6.67430e-11\n",
    "    \n",
    "    force = G * (m1 * m2) / (r ** 2)\n",
    "    return force\n",
    "\n",
    "\n",
    "mass1 = float(input(\"Enter the mass of the first object (in kg): \"))\n",
    "mass2 = float(input(\"Enter the mass of the second object (in kg): \"))\n",
    "distance = float(input(\"Enter the distance between the two objects (in meters): \"))\n",
    "\n",
    "\n",
    "gravitational_force = calculate_gravitational_force(mass1, mass2, distance)\n",
    "\n",
    "\n",
    "print(f\"The gravitational force between the two objects is: {gravitational_force:.2e} N\")"
   ]
  },
  {
   "cell_type": "code",
   "execution_count": 11,
   "metadata": {},
   "outputs": [
    {
     "name": "stdout",
     "output_type": "stream",
     "text": [
      "The number 10 is Even.\n"
     ]
    }
   ],
   "source": [
    "def check_even_odd(number):\n",
    "    if number % 2 == 0:\n",
    "        return \"Even\"\n",
    "    else:\n",
    "        return \"Odd\"\n",
    "\n",
    "\n",
    "num = int(input(\"Enter a number: \"))\n",
    "\n",
    "\n",
    "result = check_even_odd(num)\n",
    "\n",
    "\n",
    "print(f\"The number {num} is {result}.\")"
   ]
  },
  {
   "cell_type": "code",
   "execution_count": 12,
   "metadata": {},
   "outputs": [
    {
     "name": "stdout",
     "output_type": "stream",
     "text": [
      "The number is greater than 15.\n",
      "Two times the difference is: 10.00\n"
     ]
    }
   ],
   "source": [
    "number = float(input(\"Enter a number: \"))\n",
    "\n",
    "\n",
    "comparison_value = 15\n",
    "\n",
    "\n",
    "difference = number - comparison_value\n",
    "\n",
    "\n",
    "if number > comparison_value:\n",
    "    result = 2 * difference  \n",
    "    print(f\"The number is greater than {comparison_value}.\")\n",
    "    print(f\"Two times the difference is: {result:.2f}\")\n",
    "else:\n",
    "    result = 4 * difference  \n",
    "    print(f\"The number is less than or equal to {comparison_value}.\")\n",
    "    print(f\"Four times the difference is: {result:.2f}\")"
   ]
  },
  {
   "cell_type": "code",
   "execution_count": 13,
   "metadata": {},
   "outputs": [
    {
     "name": "stdout",
     "output_type": "stream",
     "text": [
      "The largest among the three numbers is: 40.0\n"
     ]
    }
   ],
   "source": [
    "def find_largest(num1, num2, num3):\n",
    "    if num1 >= num2 and num1 >= num3:\n",
    "        return num1\n",
    "    elif num2 >= num1 and num2 >= num3:\n",
    "        return num2\n",
    "    else:\n",
    "        return num3\n",
    "\n",
    "\n",
    "number1 = float(input(\"Enter the first number: \"))\n",
    "number2 = float(input(\"Enter the second number: \"))\n",
    "number3 = float(input(\"Enter the third number: \"))\n",
    "\n",
    "\n",
    "largest_number = find_largest(number1, number2, number3)\n",
    "\n",
    "\n",
    "print(f\"The largest among the three numbers is: {largest_number}\")"
   ]
  },
  {
   "cell_type": "code",
   "execution_count": 14,
   "metadata": {},
   "outputs": [
    {
     "name": "stdout",
     "output_type": "stream",
     "text": [
      "The triangle is: Scalene triangle\n"
     ]
    }
   ],
   "source": [
    "def triangle_type(side1, side2, side3):\n",
    "    if side1 <= 0 or side2 <= 0 or side3 <= 0:\n",
    "        return \"Invalid triangle sides. All sides must be positive.\"\n",
    "    \n",
    "    if side1 == side2 == side3:\n",
    "        return \"Equilateral triangle\"\n",
    "    elif side1 == side2 or side2 == side3 or side1 == side3:\n",
    "        return \"Isosceles triangle\"\n",
    "    else:\n",
    "        return \"Scalene triangle\"\n",
    "\n",
    "\n",
    "side1 = float(input(\"Enter the length of the first side: \"))\n",
    "side2 = float(input(\"Enter the length of the second side: \"))\n",
    "side3 = float(input(\"Enter the length of the third side: \"))\n",
    "\n",
    "\n",
    "result = triangle_type(side1, side2, side3)\n",
    "\n",
    "\n",
    "print(f\"The triangle is: {result}\")\n"
   ]
  },
  {
   "cell_type": "code",
   "execution_count": 15,
   "metadata": {},
   "outputs": [
    {
     "name": "stdout",
     "output_type": "stream",
     "text": [
      "2002 is not a leap year.\n"
     ]
    }
   ],
   "source": [
    "def is_leap_year(year):\n",
    "    if (year % 4 == 0 and year % 100 != 0) or (year % 400 == 0):\n",
    "        return True\n",
    "    else:\n",
    "        return False\n",
    "\n",
    "\n",
    "year = int(input(\"Enter a year: \"))\n",
    "\n",
    "\n",
    "if is_leap_year(year):\n",
    "    print(f\"{year} is a leap year.\")\n",
    "else:\n",
    "    print(f\"{year} is not a leap year.\")"
   ]
  },
  {
   "cell_type": "code",
   "execution_count": 16,
   "metadata": {},
   "outputs": [
    {
     "name": "stdout",
     "output_type": "stream",
     "text": [
      "The average marks are: 81.50\n",
      "The grade is: A\n"
     ]
    }
   ],
   "source": [
    "def calculate_grade(marks):\n",
    "    average = sum(marks) / len(marks)  \n",
    "    \n",
    "    if average >= 75:\n",
    "        grade = 'A'\n",
    "    elif average >= 60:\n",
    "        grade = 'B'\n",
    "    elif average >= 40:\n",
    "        grade = 'C'\n",
    "    else:\n",
    "        grade = 'D'\n",
    "\n",
    "    return average, grade\n",
    "\n",
    "\n",
    "marks = []\n",
    "for i in range(4):\n",
    "    mark = float(input(f\"Enter marks for subject {i + 1}: \"))\n",
    "    marks.append(mark)\n",
    "\n",
    "\n",
    "average, grade = calculate_grade(marks)\n",
    "\n",
    "\n",
    "print(f\"The average marks are: {average:.2f}\")\n",
    "print(f\"The grade is: {grade}\")"
   ]
  },
  {
   "cell_type": "code",
   "execution_count": 17,
   "metadata": {},
   "outputs": [
    {
     "name": "stdout",
     "output_type": "stream",
     "text": [
      "The result is: 56.0\n"
     ]
    }
   ],
   "source": [
    "def calculate(num1, num2, operator):\n",
    "    if operator == '+':\n",
    "        return num1 + num2\n",
    "    elif operator == '-':\n",
    "        return num1 - num2\n",
    "    elif operator == '*':\n",
    "        return num1 * num2\n",
    "    elif operator == '/':\n",
    "        if num2 != 0:\n",
    "            return num1 / num2\n",
    "        else:\n",
    "            return \"Error! Division by zero.\"\n",
    "    else:\n",
    "        return \"Invalid operator.\"\n",
    "\n",
    "\n",
    "num1 = float(input(\"Enter the first number: \"))\n",
    "num2 = float(input(\"Enter the second number: \"))\n",
    "operator = input(\"Enter the operator (+, -, *, /): \")\n",
    "\n",
    "\n",
    "result = calculate(num1, num2, operator)\n",
    "\n",
    "\n",
    "print(f\"The result is: {result}\")"
   ]
  },
  {
   "cell_type": "code",
   "execution_count": 18,
   "metadata": {},
   "outputs": [
    {
     "name": "stdout",
     "output_type": "stream",
     "text": [
      "The roots of the quadratic equation are: (-0.9583333333333334+0.9991315673568165j) and (-0.9583333333333334-0.9991315673568165j)\n"
     ]
    }
   ],
   "source": [
    "import cmath  \n",
    "\n",
    "\n",
    "def find_roots(a, b, c):\n",
    "    \n",
    "    discriminant = b**2 - 4*a*c\n",
    "    \n",
    "    \n",
    "    root1 = (-b + cmath.sqrt(discriminant)) / (2 * a)\n",
    "    root2 = (-b - cmath.sqrt(discriminant)) / (2 * a)\n",
    "    \n",
    "    return root1, root2\n",
    "\n",
    "\n",
    "a = float(input(\"Enter the coefficient a: \"))\n",
    "b = float(input(\"Enter the coefficient b: \"))\n",
    "c = float(input(\"Enter the coefficient c: \"))\n",
    "\n",
    "\n",
    "if a == 0:\n",
    "    print(\"Coefficient 'a' cannot be zero for a quadratic equation.\")\n",
    "else:\n",
    "    \n",
    "    root1, root2 = find_roots(a, b, c)\n",
    "    \n",
    "    \n",
    "    print(f\"The roots of the quadratic equation are: {root1} and {root2}\")"
   ]
  },
  {
   "cell_type": "code",
   "execution_count": 19,
   "metadata": {},
   "outputs": [
    {
     "name": "stdout",
     "output_type": "stream",
     "text": [
      "1\n",
      "2\n",
      "3\n",
      "4\n",
      "5\n",
      "6\n"
     ]
    }
   ],
   "source": [
    "n = int(input(\"Enter a positive integer n: \"))\n",
    "\n",
    "\n",
    "for i in range(1, n + 1):\n",
    "    print(i)\n"
   ]
  },
  {
   "cell_type": "code",
   "execution_count": 20,
   "metadata": {},
   "outputs": [
    {
     "name": "stdout",
     "output_type": "stream",
     "text": [
      "The sum of natural numbers from 1 to 6 is: 21\n"
     ]
    }
   ],
   "source": [
    "n = int(input(\"Enter a positive integer n: \"))\n",
    "\n",
    "\n",
    "sum_natural = 0\n",
    "\n",
    "\n",
    "for i in range(1, n + 1):\n",
    "    sum_natural += i\n",
    "\n",
    "\n",
    "print(f\"The sum of natural numbers from 1 to {n} is: {sum_natural}\")"
   ]
  },
  {
   "cell_type": "code",
   "execution_count": 22,
   "metadata": {},
   "outputs": [
    {
     "name": "stdout",
     "output_type": "stream",
     "text": [
      "The sum of the digits of 8233 is: 16\n"
     ]
    }
   ],
   "source": [
    "def sum_of_digits(number):\n",
    "    \n",
    "    total = 0\n",
    "    \n",
    "    \n",
    "    while number > 0:\n",
    "        digit = number % 10  \n",
    "        total += digit       \n",
    "        number //= 10        \n",
    "    \n",
    "    return total\n",
    "\n",
    "\n",
    "num = int(input(\"Enter a positive integer: \"))\n",
    "\n",
    "\n",
    "result = sum_of_digits(num)\n",
    "\n",
    "\n",
    "print(f\"The sum of the digits of {num} is: {result}\")"
   ]
  },
  {
   "cell_type": "code",
   "execution_count": 23,
   "metadata": {},
   "outputs": [
    {
     "name": "stdout",
     "output_type": "stream",
     "text": [
      "Factors of 8 are:\n",
      "1\n",
      "2\n",
      "4\n",
      "8\n"
     ]
    }
   ],
   "source": [
    "def print_factors(number):\n",
    "    print(f\"Factors of {number} are:\")\n",
    "    for i in range(1, number + 1):\n",
    "        if number % i == 0:\n",
    "            print(i)\n",
    "\n",
    "\n",
    "num = int(input(\"Enter a positive integer: \"))\n",
    "\n",
    "\n",
    "print_factors(num)"
   ]
  },
  {
   "cell_type": "code",
   "execution_count": 24,
   "metadata": {},
   "outputs": [
    {
     "name": "stdout",
     "output_type": "stream",
     "text": [
      "Reversed Number: 21\n"
     ]
    }
   ],
   "source": [
    "def reverse_number(num):\n",
    "    \n",
    "    reversed_num = str(num)[::-1]\n",
    "    return int(reversed_num)  \n",
    "\n",
    "\n",
    "number = int(input(\"Enter a number: \"))\n",
    "reversed_number = reverse_number(number)\n",
    "print(\"Reversed Number:\", reversed_number)"
   ]
  },
  {
   "cell_type": "code",
   "execution_count": 25,
   "metadata": {},
   "outputs": [
    {
     "name": "stdout",
     "output_type": "stream",
     "text": [
      "Factorial (Iterative): 25852016738884976640000\n"
     ]
    }
   ],
   "source": [
    "def factorial_iterative(n):\n",
    "    if n < 0:\n",
    "        return \"Factorial is not defined for negative numbers.\"\n",
    "    result = 1\n",
    "    for i in range(2, n + 1):\n",
    "        result *= i\n",
    "    return result\n",
    "\n",
    "20\n",
    "number = int(input(\"Enter a number: \"))\n",
    "print(\"Factorial (Iterative):\", factorial_iterative(number))"
   ]
  },
  {
   "cell_type": "code",
   "execution_count": 26,
   "metadata": {},
   "outputs": [
    {
     "name": "stdout",
     "output_type": "stream",
     "text": [
      "10 is not a palindrome.\n"
     ]
    }
   ],
   "source": [
    "def is_palindrome(num):\n",
    "    \n",
    "    str_num = str(num)\n",
    "   \n",
    "    return str_num == str_num[::-1]\n",
    "\n",
    "\n",
    "number = int(input(\"Enter a number: \"))\n",
    "if is_palindrome(number):\n",
    "    print(f\"{number} is a palindrome.\")\n",
    "else:\n",
    "    print(f\"{number} is not a palindrome.\")"
   ]
  },
  {
   "cell_type": "code",
   "execution_count": 27,
   "metadata": {},
   "outputs": [
    {
     "name": "stdout",
     "output_type": "stream",
     "text": [
      "6 is not a prime number.\n"
     ]
    }
   ],
   "source": [
    "def is_prime(num):\n",
    "    if num <= 1:\n",
    "        return False  \n",
    "    for i in range(2, int(num**0.5) + 1):\n",
    "        if num % i == 0:\n",
    "            return False \n",
    "    return True  \n",
    "\n",
    "number = int(input(\"Enter a number: \"))\n",
    "if is_prime(number):\n",
    "    print(f\"{number} is a prime number.\")\n",
    "else:\n",
    "    print(f\"{number} is not a prime number.\")"
   ]
  },
  {
   "cell_type": "code",
   "execution_count": 28,
   "metadata": {},
   "outputs": [
    {
     "name": "stdout",
     "output_type": "stream",
     "text": [
      "14 is not an Armstrong number.\n"
     ]
    }
   ],
   "source": [
    "def is_armstrong(num):\n",
    "    \n",
    "    str_num = str(num)\n",
    "    num_digits = len(str_num)\n",
    "    \n",
    "   \n",
    "    sum_of_powers = sum(int(digit) ** num_digits for digit in str_num)\n",
    "    \n",
    "    \n",
    "    return sum_of_powers == num\n",
    "\n",
    "\n",
    "number = int(input(\"Enter a number: \"))\n",
    "if is_armstrong(number):\n",
    "    print(f\"{number} is an Armstrong number.\")\n",
    "else:\n",
    "    print(f\"{number} is not an Armstrong number.\")"
   ]
  },
  {
   "cell_type": "code",
   "execution_count": 29,
   "metadata": {},
   "outputs": [
    {
     "name": "stdout",
     "output_type": "stream",
     "text": [
      "Fibonacci series:\n",
      "[0, 1, 1, 2, 3, 5]\n"
     ]
    }
   ],
   "source": [
    "def fibonacci_series(n):\n",
    "    fib_series = []\n",
    "    a, b = 0, 1  \n",
    "    for _ in range(n):\n",
    "        fib_series.append(a)\n",
    "        a, b = b, a + b  \n",
    "    return fib_series\n",
    "\n",
    "\n",
    "n = int(input(\"Enter the number of terms in the Fibonacci series: \"))\n",
    "if n <= 0:\n",
    "    print(\"Please enter a positive integer.\")\n",
    "else:\n",
    "    print(\"Fibonacci series:\")\n",
    "    print(fibonacci_series(n))"
   ]
  },
  {
   "cell_type": "code",
   "execution_count": 30,
   "metadata": {},
   "outputs": [
    {
     "name": "stdout",
     "output_type": "stream",
     "text": [
      "Multiplication Table for 8:\n",
      "8 x 1 = 8\n",
      "8 x 2 = 16\n",
      "8 x 3 = 24\n",
      "8 x 4 = 32\n",
      "8 x 5 = 40\n",
      "8 x 6 = 48\n",
      "8 x 7 = 56\n",
      "8 x 8 = 64\n"
     ]
    }
   ],
   "source": [
    "def multiplication_table(num, terms=10):\n",
    "    print(f\"Multiplication Table for {num}:\")\n",
    "    for i in range(1, terms + 1):\n",
    "        print(f\"{num} x {i} = {num * i}\")\n",
    "\n",
    "\n",
    "number = int(input(\"Enter a number to display its multiplication table: \"))\n",
    "terms = int(input(\"Enter the number of terms for the multiplication table (default is 10): \") or 10)\n",
    "\n",
    "multiplication_table(number, terms)"
   ]
  },
  {
   "cell_type": "code",
   "execution_count": 31,
   "metadata": {},
   "outputs": [
    {
     "name": "stdout",
     "output_type": "stream",
     "text": [
      "The list you entered is: ['amit', 'pratim', 'manas', 'hrishav', 'jitendar']\n"
     ]
    }
   ],
   "source": [
    "def input_list():\n",
    "    user_input = input(\"Enter elements of the list separated by spaces: \")\n",
    "    \n",
    "    input_list = user_input.split()\n",
    "    return input_list\n",
    "\n",
    "\n",
    "user_list = input_list()\n",
    "\n",
    "\n",
    "print(\"The list you entered is:\", user_list)"
   ]
  },
  {
   "cell_type": "code",
   "execution_count": 32,
   "metadata": {},
   "outputs": [
    {
     "name": "stdout",
     "output_type": "stream",
     "text": [
      "The average of the entered numbers is: 4.5\n"
     ]
    }
   ],
   "source": [
    "def calculate_average(numbers):\n",
    "    return sum(numbers) / len(numbers) if numbers else 0\n",
    "\n",
    "def input_numbers():\n",
    "    user_input = input(\"Enter numbers separated by spaces: \")\n",
    "    \n",
    "    input_list = [float(num) for num in user_input.split()]\n",
    "    return input_list\n",
    "\n",
    "\n",
    "numbers = input_numbers()\n",
    "\n",
    "\n",
    "average = calculate_average(numbers)\n",
    "print(\"The average of the entered numbers is:\", average)"
   ]
  },
  {
   "cell_type": "code",
   "execution_count": 33,
   "metadata": {},
   "outputs": [
    {
     "name": "stdout",
     "output_type": "stream",
     "text": [
      "The largest element in the list is: 6.0\n"
     ]
    }
   ],
   "source": [
    "def find_largest(numbers):\n",
    "    if not numbers:\n",
    "        return None  \n",
    "    largest = numbers[0]  \n",
    "    for num in numbers:\n",
    "        if num > largest:\n",
    "            largest = num  \n",
    "    return largest\n",
    "\n",
    "def input_numbers():\n",
    "    user_input = input(\"Enter numbers separated by spaces: \")\n",
    "    \n",
    "    input_list = [float(num) for num in user_input.split()]\n",
    "    return input_list\n",
    "\n",
    "\n",
    "numbers = input_numbers()\n",
    "\n",
    "\n",
    "largest_element = find_largest(numbers)\n",
    "if largest_element is not None:\n",
    "    print(\"The largest element in the list is:\", largest_element)\n",
    "else:\n",
    "    print(\"The list is empty.\")"
   ]
  },
  {
   "cell_type": "code",
   "execution_count": 34,
   "metadata": {},
   "outputs": [
    {
     "name": "stdout",
     "output_type": "stream",
     "text": [
      "The number 3 is found at index 2.\n"
     ]
    }
   ],
   "source": [
    "def linear_search(arr, target):\n",
    "    for index, value in enumerate(arr):\n",
    "        if value == target:\n",
    "            return index  \n",
    "    return -1  \n",
    "\n",
    "def input_numbers():\n",
    "    user_input = input(\"Enter numbers separated by spaces: \")\n",
    "    \n",
    "    input_list = [int(num) for num in user_input.split()]\n",
    "    return input_list\n",
    "\n",
    "\n",
    "numbers = input_numbers()\n",
    "\n",
    "\n",
    "target = int(input(\"Enter the number to search for: \"))\n",
    "\n",
    "\n",
    "result = linear_search(numbers, target)\n",
    "\n",
    "\n",
    "if result != -1:\n",
    "    print(f\"The number {target} is found at index {result}.\")\n",
    "else:\n",
    "    print(f\"The number {target} is not found in the list.\")"
   ]
  },
  {
   "cell_type": "code",
   "execution_count": 35,
   "metadata": {},
   "outputs": [
    {
     "name": "stdout",
     "output_type": "stream",
     "text": [
      "Enter lines of text (press 'Enter' twice to stop):\n",
      "AMIT\n"
     ]
    }
   ],
   "source": [
    "def capitalize_lines():\n",
    "    print(\"Enter lines of text (press 'Enter' twice to stop):\")\n",
    "    lines = []\n",
    "    \n",
    "    while True:\n",
    "        line = input()\n",
    "        if line == \"\":  \n",
    "            break\n",
    "        lines.append(line)\n",
    "\n",
    "    \n",
    "    for line in lines:\n",
    "        print(line.upper())\n",
    "\n",
    "\n",
    "capitalize_lines()"
   ]
  },
  {
   "cell_type": "code",
   "execution_count": 36,
   "metadata": {},
   "outputs": [
    {
     "name": "stdout",
     "output_type": "stream",
     "text": [
      "List: ['1', '2', '3', '4', '5', '6', '7', '8']\n",
      "Tuple: ('1', '2', '3', '4', '5', '6', '7', '8')\n"
     ]
    }
   ],
   "source": [
    "def generate_list_and_tuple():\n",
    "    \n",
    "    user_input = input(\"Enter a sequence of comma-separated numbers: \")\n",
    "    \n",
    "    \n",
    "    number_list = user_input.split(\",\")\n",
    "    \n",
    "    \n",
    "    number_tuple = tuple(number_list)\n",
    "    \n",
    "    \n",
    "    print(\"List:\", number_list)\n",
    "    print(\"Tuple:\", number_tuple)\n",
    "\n",
    "\n",
    "generate_list_and_tuple()"
   ]
  },
  {
   "cell_type": "code",
   "execution_count": 47,
   "metadata": {},
   "outputs": [
    {
     "name": "stdout",
     "output_type": "stream",
     "text": [
      "Enter transactions (type 'STOP' to end):\n",
      "Net amount: 1700\n"
     ]
    }
   ],
   "source": [
    "#34\n",
    "net_amount = 0\n",
    "\n",
    "print(\"Enter transactions (type 'STOP' to end):\")\n",
    "while True:\n",
    "    transaction = input()\n",
    "    if transaction == 'STOP':\n",
    "        break\n",
    "    type, amount = transaction.split()\n",
    "    amount = int(amount)\n",
    "    if type == 'D':\n",
    "        net_amount += amount\n",
    "    elif type == 'W':\n",
    "        net_amount -= amount\n",
    "\n",
    "print(\"Net amount:\", net_amount)\n"
   ]
  }
 ],
 "metadata": {
  "kernelspec": {
   "display_name": "Python 3",
   "language": "python",
   "name": "python3"
  },
  "language_info": {
   "codemirror_mode": {
    "name": "ipython",
    "version": 3
   },
   "file_extension": ".py",
   "mimetype": "text/x-python",
   "name": "python",
   "nbconvert_exporter": "python",
   "pygments_lexer": "ipython3",
   "version": "3.9.6"
  }
 },
 "nbformat": 4,
 "nbformat_minor": 2
}
